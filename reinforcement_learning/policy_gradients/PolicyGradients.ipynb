{
  "nbformat": 4,
  "nbformat_minor": 0,
  "metadata": {
    "colab": {
      "provenance": [],
      "authorship_tag": "ABX9TyPa/u9YyTzYw833B1BhM/pN",
      "include_colab_link": true
    },
    "kernelspec": {
      "name": "python3",
      "display_name": "Python 3"
    },
    "language_info": {
      "name": "python"
    }
  },
  "cells": [
    {
      "cell_type": "markdown",
      "metadata": {
        "id": "view-in-github",
        "colab_type": "text"
      },
      "source": [
        "<a href=\"https://colab.research.google.com/github/LW068/Bettys-Cloud-Dodger/blob/main/reinforcement_learning/policy_gradients/PolicyGradients.ipynb\" target=\"_parent\"><img src=\"https://colab.research.google.com/assets/colab-badge.svg\" alt=\"Open In Colab\"/></a>"
      ]
    },
    {
      "cell_type": "markdown",
      "source": [
        "## So Code doesnt run properly on my local machine for some reason so testing the files here:"
      ],
      "metadata": {
        "id": "2Mxww-8HYwjv"
      }
    },
    {
      "cell_type": "code",
      "source": [
        "!pip install gym"
      ],
      "metadata": {
        "colab": {
          "base_uri": "https://localhost:8080/"
        },
        "id": "dCNUaTcjZ4eV",
        "outputId": "d6192073-3cce-42ad-fcb9-9af7ad333047"
      },
      "execution_count": 10,
      "outputs": [
        {
          "output_type": "stream",
          "name": "stdout",
          "text": [
            "Requirement already satisfied: gym in /usr/local/lib/python3.10/dist-packages (0.25.2)\n",
            "Requirement already satisfied: numpy>=1.18.0 in /usr/local/lib/python3.10/dist-packages (from gym) (1.23.5)\n",
            "Requirement already satisfied: cloudpickle>=1.2.0 in /usr/local/lib/python3.10/dist-packages (from gym) (2.2.1)\n",
            "Requirement already satisfied: gym-notices>=0.0.4 in /usr/local/lib/python3.10/dist-packages (from gym) (0.0.8)\n"
          ]
        }
      ]
    },
    {
      "cell_type": "markdown",
      "source": [
        "task 0:"
      ],
      "metadata": {
        "id": "PShamr4saQmk"
      }
    },
    {
      "cell_type": "code",
      "execution_count": 2,
      "metadata": {
        "id": "GgMcQaM8YuI8"
      },
      "outputs": [],
      "source": [
        "#!/usr/bin/env python3\n",
        "\"\"\"POLICY GRADIENT!!!!\"\"\"\n",
        "import numpy as np\n",
        "\n",
        "\n",
        "def policy(matrix, weight):\n",
        "    \"\"\"\n",
        "    Compute the policy from a given state matrix and weight matrix.\n",
        "\n",
        "    :param matrix: numpy.ndarray - The state matrix\n",
        "    :param weight: numpy.ndarray - The weight matrix\n",
        "    :return: The computed policy as a probability distribution over actions\n",
        "    \"\"\"\n",
        "    z = np.dot(matrix, weight)\n",
        "    exp = np.exp(z)\n",
        "    return exp / np.sum(exp, axis=1, keepdims=True)"
      ]
    },
    {
      "cell_type": "markdown",
      "source": [
        "0-main.py:"
      ],
      "metadata": {
        "id": "bS8_mTQ2ZldM"
      }
    },
    {
      "cell_type": "code",
      "source": [
        "weight = np.ndarray((4, 2), buffer=np.array([\n",
        "    [4.17022005e-01, 7.20324493e-01],\n",
        "    [1.14374817e-04, 3.02332573e-01],\n",
        "    [1.46755891e-01, 9.23385948e-02],\n",
        "    [1.86260211e-01, 3.45560727e-01]\n",
        "    ]))\n",
        "state = np.ndarray((1, 4), buffer=np.array([\n",
        "    [-0.04428214,  0.01636746,  0.01196594, -0.03095031]\n",
        "    ]))\n",
        "\n",
        "res = policy(state, weight)\n",
        "print(res)"
      ],
      "metadata": {
        "colab": {
          "base_uri": "https://localhost:8080/"
        },
        "id": "clD9Qd9DZkqx",
        "outputId": "010b9d67-ffd9-4c30-f04f-31c45657a7b0"
      },
      "execution_count": 7,
      "outputs": [
        {
          "output_type": "stream",
          "name": "stdout",
          "text": [
            "[[0.50351642 0.49648358]]\n"
          ]
        }
      ]
    },
    {
      "cell_type": "markdown",
      "source": [
        "Task 2"
      ],
      "metadata": {
        "id": "rTkj4WG3bgYe"
      }
    },
    {
      "cell_type": "code",
      "source": [
        "def policy_gradient(state, weight):\n",
        "    \"\"\"\n",
        "    Compute the Monte-Carlo policy gradient.\n",
        "\n",
        "    :param state: matrix representing the current observation of the environment\n",
        "    :param weight: matrix of random weight\n",
        "    :return: the action and the gradient (in this order)\n",
        "    \"\"\"\n",
        "    probs = policy(state, weight)\n",
        "    action = np.random.choice(len(probs[0]), p=probs[0])\n",
        "\n",
        "    # constructing the softmax gradient\n",
        "    softmax_grad = np.diag(probs.ravel()) - np.outer(probs, probs)\n",
        "    selected_action_grad = softmax_grad[action]\n",
        "\n",
        "    # computing the gradient of the log probability\n",
        "    log_prob_grad = selected_action_grad / probs[0, action]\n",
        "\n",
        "    # Fginal gradient with respect to weights\n",
        "    gradient = np.dot(state.T, log_prob_grad.reshape(1, -1))\n",
        "\n",
        "    return action, gradient"
      ],
      "metadata": {
        "id": "2cFrNkkYbfUf"
      },
      "execution_count": 3,
      "outputs": []
    },
    {
      "cell_type": "markdown",
      "source": [
        "1-main.py:"
      ],
      "metadata": {
        "id": "cLfaNKiEbk74"
      }
    },
    {
      "cell_type": "code",
      "source": [
        "import gym\n",
        "\n",
        "env = gym.make('CartPole-v1')\n",
        "np.random.seed(1)\n",
        "\n",
        "weight = np.random.rand(4, 2)\n",
        "state = env.reset()\n",
        "state = np.array([state])  # Adjust state to 2D if necessary\n",
        "\n",
        "action, grad = policy_gradient(state, weight)\n",
        "print(\"Action:\", action)\n",
        "print(\"Gradient:\\n\", grad)\n",
        "\n",
        "env.close()\n"
      ],
      "metadata": {
        "colab": {
          "base_uri": "https://localhost:8080/"
        },
        "id": "EidgmH4Ibm59",
        "outputId": "1fa20c67-e266-427b-f26a-a9c4ad70d517"
      },
      "execution_count": 30,
      "outputs": [
        {
          "output_type": "stream",
          "name": "stdout",
          "text": [
            "Action: 0\n",
            "Gradient:\n",
            " [[ 0.01571237 -0.01571237]\n",
            " [-0.00956668  0.00956668]\n",
            " [ 0.01811778 -0.01811778]\n",
            " [ 0.01708613 -0.01708613]]\n"
          ]
        }
      ]
    },
    {
      "cell_type": "markdown",
      "source": [
        "Task 2:"
      ],
      "metadata": {
        "id": "JlMqWzCngeKS"
      }
    },
    {
      "cell_type": "code",
      "source": [
        "def train(env, nb_episodes, alpha=0.000045, gamma=0.98):\n",
        "    \"\"\"\n",
        "    Implement a full trainign.\n",
        "\n",
        "    :param env: initial environment\n",
        "    :param nb_episodes: number of episodes used for training\n",
        "    :param alpha: the learning rate\n",
        "    :param gamma: the discount factor\n",
        "    :return: all values of the score (sum of all rewards during one episode loop)\n",
        "    \"\"\"\n",
        "    weight = np.random.rand(4, 2)\n",
        "    scores = []\n",
        "\n",
        "    for episode in range(nb_episodes):\n",
        "        state = env.reset()\n",
        "        state = np.array([state])\n",
        "        episode_rewards = 0\n",
        "        while True:\n",
        "            action, grad = policy_gradient(state, weight)\n",
        "            state, reward, done, _ = env.step(action)\n",
        "            state = np.array([state])\n",
        "            weight += alpha * grad * reward\n",
        "            episode_rewards += reward\n",
        "\n",
        "            if done:\n",
        "                break\n",
        "\n",
        "        scores.append(episode_rewards)\n",
        "        print(f\"Episode: {episode+1}, Score: {episode_rewards}\", end=\"\\r\", flush=True)\n",
        "\n",
        "    return scores"
      ],
      "metadata": {
        "id": "ghCXGFQTgfNq"
      },
      "execution_count": 4,
      "outputs": []
    },
    {
      "cell_type": "markdown",
      "source": [
        "2-main,py:"
      ],
      "metadata": {
        "id": "dB4mzV_7gkfe"
      }
    },
    {
      "cell_type": "code",
      "source": [
        "env = gym.make('CartPole-v1')\n",
        "\n",
        "scores = train(env, 10000)\n",
        "\n",
        "plt.plot(np.arange(len(scores)), scores)\n",
        "plt.show()\n",
        "env.close()"
      ],
      "metadata": {
        "colab": {
          "base_uri": "https://localhost:8080/",
          "height": 430
        },
        "id": "gvq6Se9Hglzb",
        "outputId": "04447b7d-36fa-4248-9cbd-21bbaa30ad76"
      },
      "execution_count": 33,
      "outputs": [
        {
          "output_type": "stream",
          "name": "stdout",
          "text": []
        },
        {
          "output_type": "display_data",
          "data": {
            "text/plain": [
              "<Figure size 640x480 with 1 Axes>"
            ],
            "image/png": "[encoded data removed]"
          },
          "metadata": {}
        }
      ]
    },
    {
      "cell_type": "markdown",
      "source": [
        "## Testing All in One block if it makes a diff (shouldnt)"
      ],
      "metadata": {
        "id": "wJ1ewCcvhSK_"
      }
    },
    {
      "cell_type": "code",
      "source": [
        "def train(env, nb_episodes, alpha=0.000045, gamma=0.98):\n",
        "    \"\"\"\n",
        "    Implement a full trainign.\n",
        "\n",
        "    :param env: initial environment\n",
        "    :param nb_episodes: number of episodes used for training\n",
        "    :param alpha: the learning rate\n",
        "    :param gamma: the discount factor\n",
        "    :return: all values of the score (sum of all rewards during one episode loop)\n",
        "    \"\"\"\n",
        "    weight = np.random.rand(4, 2)\n",
        "    scores = []\n",
        "\n",
        "    for episode in range(nb_episodes):\n",
        "        state = env.reset()\n",
        "        state = np.array([state])\n",
        "        episode_rewards = 0\n",
        "        while True:\n",
        "            action, grad = policy_gradient(state, weight)\n",
        "            state, reward, done, _ = env.step(action)\n",
        "            state = np.array([state])\n",
        "            weight += alpha * grad * reward\n",
        "            episode_rewards += reward\n",
        "\n",
        "            if done:\n",
        "                break\n",
        "\n",
        "        scores.append(episode_rewards)\n",
        "        print(f\"Episode: {episode+1}, Score: {episode_rewards}\", end=\"\\r\", flush=True)\n",
        "\n",
        "    return scores\n",
        "\n",
        "\n",
        "def policy(matrix, weight):\n",
        "    \"\"\"\n",
        "    Compute the policy from a given state matrix and weight matrix.\n",
        "\n",
        "    :param matrix: numpy.ndarray - The state matrix\n",
        "    :param weight: numpy.ndarray - The weight matrix\n",
        "    :return: The computed policy as a probability distribution over actions\n",
        "    \"\"\"\n",
        "    z = np.dot(matrix, weight)\n",
        "    exp = np.exp(z)\n",
        "    return exp / np.sum(exp, axis=1, keepdims=True)\n",
        "\n",
        "\n",
        "def policy_gradient(state, weight):\n",
        "    \"\"\"\n",
        "    Compute the Monte-Carlo policy gradient.\n",
        "\n",
        "    :param state: matrix representing the current observation of the environment\n",
        "    :param weight: matrix of random weight\n",
        "    :return: the action and the gradient (in this order)\n",
        "    \"\"\"\n",
        "    probs = policy(state, weight)\n",
        "    action = np.random.choice(len(probs[0]), p=probs[0])\n",
        "\n",
        "    # constructing the softmax gradient\n",
        "    softmax_grad = np.diag(probs.ravel()) - np.outer(probs, probs)\n",
        "    selected_action_grad = softmax_grad[action]\n",
        "\n",
        "    # computing the gradient of the log probability\n",
        "    log_prob_grad = selected_action_grad / probs[0, action]\n",
        "\n",
        "    # Fginal gradient with respect to weights\n",
        "    gradient = np.dot(state.T, log_prob_grad.reshape(1, -1))\n",
        "\n",
        "    return action, gradient"
      ],
      "metadata": {
        "id": "1IzZ4SW9hUI1"
      },
      "execution_count": 36,
      "outputs": []
    },
    {
      "cell_type": "markdown",
      "source": [
        "Same 2-main.py"
      ],
      "metadata": {
        "id": "KMlftQBKhfcN"
      }
    },
    {
      "cell_type": "code",
      "source": [
        "env = gym.make('CartPole-v1')\n",
        "\n",
        "scores = train(env, 10000)\n",
        "\n",
        "plt.plot(np.arange(len(scores)), scores)\n",
        "plt.show()\n",
        "env.close()"
      ],
      "metadata": {
        "colab": {
          "base_uri": "https://localhost:8080/",
          "height": 430
        },
        "id": "Tv5XvG5LhhOQ",
        "outputId": "d1eb6c8b-b8c9-4a06-de42-27f6c618712c"
      },
      "execution_count": 35,
      "outputs": [
        {
          "output_type": "stream",
          "name": "stdout",
          "text": []
        },
        {
          "output_type": "display_data",
          "data": {
            "text/plain": [
              "<Figure size 640x480 with 1 Axes>"
            ],
            "image/png": "[encoded data removed]"
          },
          "metadata": {}
        }
      ]
    },
    {
      "cell_type": "markdown",
      "source": [
        "Final Task 3 Animation"
      ],
      "metadata": {
        "id": "wAU-s3SKiH1z"
      }
    },
    {
      "cell_type": "code",
      "source": [
        "def train(env, nb_episodes, alpha=0.000045, gamma=0.98, show_result=False):\n",
        "    \"\"\"\n",
        "    Implement a full trainign.\n",
        "\n",
        "    :param env: initial environment\n",
        "    :param nb_episodes: number of episodes used for training\n",
        "    :param alpha: the learning rate\n",
        "    :param gamma: the discount factor\n",
        "    :return: all values of the score (sum of all rewards during one episode loop)\n",
        "    \"\"\"\n",
        "    weight = np.random.rand(4, 2)\n",
        "    scores = []\n",
        "\n",
        "    for episode in range(nb_episodes):\n",
        "        state = env.reset()\n",
        "        state = np.array([state])\n",
        "        episode_rewards = 0\n",
        "\n",
        "        while True:\n",
        "            action, grad = policy_gradient(state, weight)\n",
        "            state, reward, done, _ = env.step(action)\n",
        "            state = np.array([state])\n",
        "            weight += alpha * grad * reward\n",
        "            episode_rewards += reward\n",
        "\n",
        "            if done:\n",
        "                break\n",
        "\n",
        "        scores.append(episode_rewards)\n",
        "\n",
        "        if show_result and episode % 1000 == 0:\n",
        "            print(f\"Episode: {episode+1}, Score: {episode_rewards}\")\n",
        "            env.render()\n",
        "\n",
        "        print(f\"Episode: {episode+1}, Score: {episode_rewards}\", end=\"\\r\", flush=True)\n",
        "\n",
        "    return scores"
      ],
      "metadata": {
        "id": "c5p-fPWAiLMv"
      },
      "execution_count": 6,
      "outputs": []
    },
    {
      "cell_type": "markdown",
      "source": [
        "3-main.py: (added rendermode human)"
      ],
      "metadata": {
        "id": "IoN8iYSPiSi3"
      }
    },
    {
      "cell_type": "code",
      "source": [
        "env = gym.make('CartPole-v1')\n",
        "\n",
        "scores = train(env, 10000, 0.000045, 0.98, True)\n",
        "\n",
        "env.close()"
      ],
      "metadata": {
        "colab": {
          "base_uri": "https://localhost:8080/"
        },
        "id": "crISM0BQiUBO",
        "outputId": "ee1582fd-02be-4231-df5b-0c8b7a162945"
      },
      "execution_count": 41,
      "outputs": [
        {
          "output_type": "stream",
          "name": "stdout",
          "text": [
            "Episode: 1, Score: 13.0\n",
            "Episode: 1001, Score: 11.0\n",
            "Episode: 2001, Score: 18.0\n",
            "Episode: 3001, Score: 11.0\n",
            "Episode: 4001, Score: 10.0\n",
            "Episode: 5001, Score: 8.0\n",
            "Episode: 6001, Score: 19.0\n",
            "Episode: 7001, Score: 13.0\n",
            "Episode: 8001, Score: 10.0\n",
            "Episode: 9001, Score: 12.0\n"
          ]
        }
      ]
    },
    {
      "cell_type": "markdown",
      "source": [
        "## Attempting to display animation"
      ],
      "metadata": {
        "id": "i_S8QOinkK6z"
      }
    },
    {
      "cell_type": "code",
      "source": [
        "!apt-get install -y xvfb python-opengl ffmpeg > /dev/null 2>&1\n",
        "!pip install gym pyvirtualdisplay > /dev/null 2>&1"
      ],
      "metadata": {
        "id": "wrSj1n9Zjp1k"
      },
      "execution_count": 7,
      "outputs": []
    },
    {
      "cell_type": "code",
      "source": [
        "!apt-get install -y xvfb python-opengl ffmpeg"
      ],
      "metadata": {
        "colab": {
          "base_uri": "https://localhost:8080/"
        },
        "id": "kOnF39V6mFNS",
        "outputId": "7ee4e4f8-73fa-4f71-f0b3-505806fefadd"
      },
      "execution_count": 8,
      "outputs": [
        {
          "output_type": "stream",
          "name": "stdout",
          "text": [
            "Reading package lists... Done\n",
            "Building dependency tree... Done\n",
            "Reading state information... Done\n",
            "E: Unable to locate package python-opengl\n"
          ]
        }
      ]
    },
    {
      "cell_type": "code",
      "source": [
        "!sudo apt-get update\n",
        "!sudo apt-get install -y xvfb python3-opengl ffmpeg"
      ],
      "metadata": {
        "colab": {
          "base_uri": "https://localhost:8080/"
        },
        "id": "sDNav5p1mcuu",
        "outputId": "e0774ff9-05d0-4c9c-8f2d-39222f349f7b"
      },
      "execution_count": 9,
      "outputs": [
        {
          "output_type": "stream",
          "name": "stdout",
          "text": [
            "\r0% [Working]\r            \rHit:1 http://security.ubuntu.com/ubuntu jammy-security InRelease\n",
            "\r0% [Connecting to archive.ubuntu.com (91.189.91.82)] [Connected to cloud.r-proj\r                                                                               \rHit:2 http://archive.ubuntu.com/ubuntu jammy InRelease\n",
            "\r                                                                               \rHit:3 http://archive.ubuntu.com/ubuntu jammy-updates InRelease\n",
            "Hit:4 http://archive.ubuntu.com/ubuntu jammy-backports InRelease\n",
            "Hit:5 https://developer.download.nvidia.com/compute/cuda/repos/ubuntu2204/x86_64  InRelease\n",
            "Hit:6 https://cloud.r-project.org/bin/linux/ubuntu jammy-cran40/ InRelease\n",
            "Hit:7 https://ppa.launchpadcontent.net/c2d4u.team/c2d4u4.0+/ubuntu jammy InRelease\n",
            "Hit:8 https://ppa.launchpadcontent.net/deadsnakes/ppa/ubuntu jammy InRelease\n",
            "Hit:9 https://ppa.launchpadcontent.net/graphics-drivers/ppa/ubuntu jammy InRelease\n",
            "Hit:10 https://ppa.launchpadcontent.net/ubuntugis/ppa/ubuntu jammy InRelease\n",
            "Reading package lists... Done\n",
            "Reading package lists... Done\n",
            "Building dependency tree... Done\n",
            "Reading state information... Done\n",
            "python3-opengl is already the newest version (3.1.5+dfsg-1).\n",
            "ffmpeg is already the newest version (7:4.4.2-0ubuntu0.22.04.1).\n",
            "xvfb is already the newest version (2:21.1.4-2ubuntu1.7~22.04.7).\n",
            "0 upgraded, 0 newly installed, 0 to remove and 41 not upgraded.\n"
          ]
        }
      ]
    },
    {
      "cell_type": "code",
      "source": [
        "from pyvirtualdisplay import Display\n",
        "display = Display(visible=0, size=(1400, 900))\n",
        "display.start()"
      ],
      "metadata": {
        "colab": {
          "base_uri": "https://localhost:8080/"
        },
        "id": "kLlvNgrxjsaA",
        "outputId": "3f26616f-1ccc-4611-b40b-0581662c22f1"
      },
      "execution_count": 10,
      "outputs": [
        {
          "output_type": "execute_result",
          "data": {
            "text/plain": [
              "<pyvirtualdisplay.display.Display at 0x7d84eb423310>"
            ]
          },
          "metadata": {},
          "execution_count": 10
        }
      ]
    },
    {
      "cell_type": "code",
      "source": [
        "def train(env, nb_episodes, alpha=0.000045, gamma=0.98, show_result=False):\n",
        "    if show_result:\n",
        "        env = gym.make('CartPole-v1', render_mode='rgb_array')  # Set render_mode for recording\n",
        "        env = Monitor(env, './video', force=True, video_callable=lambda episode: episode % 1000 == 0)\n",
        "\n",
        "\n",
        "    weight = np.random.rand(4, 2)\n",
        "    scores = []\n",
        "\n",
        "    for episode in range(nb_episodes):\n",
        "        state = env.reset()\n",
        "        print(\"State shape:\", np.array(state).shape)\n",
        "        state = np.array(state, dtype=object).reshape(1, 4)\n",
        "        episode_rewards = 0\n",
        "\n",
        "        while True:\n",
        "            action, grad = policy_gradient(state, weight)\n",
        "            state, reward, done, _ = env.step(action)\n",
        "            print(\"State shape:\", np.array(state).shape)\n",
        "            state = np.array(state, dtype=object).reshape(1, 4)\n",
        "            weight += alpha * grad * reward\n",
        "            episode_rewards += reward\n",
        "\n",
        "            if done:\n",
        "                break\n",
        "\n",
        "        scores.append(episode_rewards)\n",
        "\n",
        "        if show_result:\n",
        "            env.close()"
      ],
      "metadata": {
        "id": "gXAYHg_8j312"
      },
      "execution_count": 41,
      "outputs": []
    },
    {
      "cell_type": "code",
      "source": [
        "from IPython.display import HTML\n",
        "from base64 import b64encode\n",
        "\n",
        "def show_video():\n",
        "    mp4list = [f\"./video/{mp4}\" for mp4 in os.listdir(\"./video\") if mp4.endswith(\".mp4\")]\n",
        "    if len(mp4list) > 0:\n",
        "        mp4 = mp4list[0]\n",
        "        video = open(mp4, 'rb').read()\n",
        "        data_url = \"data:video/mp4;base64,\" + b64encode(video).decode()\n",
        "        return HTML(\"\"\"\n",
        "        <video width=400 controls>\n",
        "            <source src=\"%s\" type=\"video/mp4\">\n",
        "        </video>\n",
        "        \"\"\" % data_url)\n",
        "    else:\n",
        "        return \"No videos found\""
      ],
      "metadata": {
        "id": "yz2yNZrZkP_Q"
      },
      "execution_count": 12,
      "outputs": []
    },
    {
      "cell_type": "code",
      "source": [
        "!pip install --upgrade gym\n"
      ],
      "metadata": {
        "colab": {
          "base_uri": "https://localhost:8080/"
        },
        "id": "psEwlyCcnJAp",
        "outputId": "4cf52b13-91bc-4fc0-a30d-6c803b27d092"
      },
      "execution_count": 1,
      "outputs": [
        {
          "output_type": "stream",
          "name": "stdout",
          "text": [
            "Requirement already satisfied: gym in /usr/local/lib/python3.10/dist-packages (0.26.2)\n",
            "Requirement already satisfied: numpy>=1.18.0 in /usr/local/lib/python3.10/dist-packages (from gym) (1.23.5)\n",
            "Requirement already satisfied: cloudpickle>=1.2.0 in /usr/local/lib/python3.10/dist-packages (from gym) (2.2.1)\n",
            "Requirement already satisfied: gym-notices>=0.0.4 in /usr/local/lib/python3.10/dist-packages (from gym) (0.0.8)\n"
          ]
        }
      ]
    },
    {
      "cell_type": "code",
      "source": [
        "!pip uninstall -y gym\n",
        "!pip install gym==0.17.3\n"
      ],
      "metadata": {
        "colab": {
          "base_uri": "https://localhost:8080/",
          "height": 635
        },
        "id": "-Sv00nvzoAW9",
        "outputId": "aeccbf2b-d337-45c7-d947-9ea2840c99ca"
      },
      "execution_count": 16,
      "outputs": [
        {
          "output_type": "stream",
          "name": "stdout",
          "text": [
            "Found existing installation: gym 0.26.2\n",
            "Uninstalling gym-0.26.2:\n",
            "  Successfully uninstalled gym-0.26.2\n",
            "Collecting gym==0.17.3\n",
            "  Downloading gym-0.17.3.tar.gz (1.6 MB)\n",
            "\u001b[2K     \u001b[90m━━━━━━━━━━━━━━━━━━━━━━━━━━━━━━━━━━━━━━━━\u001b[0m \u001b[32m1.6/1.6 MB\u001b[0m \u001b[31m3.9 MB/s\u001b[0m eta \u001b[36m0:00:00\u001b[0m\n",
            "\u001b[?25h  Preparing metadata (setup.py) ... \u001b[?25l\u001b[?25hdone\n",
            "Requirement already satisfied: scipy in /usr/local/lib/python3.10/dist-packages (from gym==0.17.3) (1.11.4)\n",
            "Requirement already satisfied: numpy>=1.10.4 in /usr/local/lib/python3.10/dist-packages (from gym==0.17.3) (1.23.5)\n",
            "Collecting pyglet<=1.5.0,>=1.4.0 (from gym==0.17.3)\n",
            "  Downloading pyglet-1.5.0-py2.py3-none-any.whl (1.0 MB)\n",
            "\u001b[2K     \u001b[90m━━━━━━━━━━━━━━━━━━━━━━━━━━━━━━━━━━━━━━━━\u001b[0m \u001b[32m1.0/1.0 MB\u001b[0m \u001b[31m24.3 MB/s\u001b[0m eta \u001b[36m0:00:00\u001b[0m\n",
            "\u001b[?25hCollecting cloudpickle<1.7.0,>=1.2.0 (from gym==0.17.3)\n",
            "  Downloading cloudpickle-1.6.0-py3-none-any.whl (23 kB)\n",
            "Requirement already satisfied: future in /usr/local/lib/python3.10/dist-packages (from pyglet<=1.5.0,>=1.4.0->gym==0.17.3) (0.18.3)\n",
            "Building wheels for collected packages: gym\n",
            "  Building wheel for gym (setup.py) ... \u001b[?25l\u001b[?25hdone\n",
            "  Created wheel for gym: filename=gym-0.17.3-py3-none-any.whl size=1654618 sha256=eaf494d602c819d10753ea9ca7a23b0437d98c603b1ac8341827373b91a297d5\n",
            "  Stored in directory: /root/.cache/pip/wheels/af/4b/74/fcfc8238472c34d7f96508a63c962ff3ac9485a9a4137afd4e\n",
            "Successfully built gym\n",
            "Installing collected packages: pyglet, cloudpickle, gym\n",
            "  Attempting uninstall: cloudpickle\n",
            "    Found existing installation: cloudpickle 2.2.1\n",
            "    Uninstalling cloudpickle-2.2.1:\n",
            "      Successfully uninstalled cloudpickle-2.2.1\n",
            "\u001b[31mERROR: pip's dependency resolver does not currently take into account all the packages that are installed. This behaviour is the source of the following dependency conflicts.\n",
            "bigframes 0.19.2 requires cloudpickle>=2.0.0, but you have cloudpickle 1.6.0 which is incompatible.\u001b[0m\u001b[31m\n",
            "\u001b[0mSuccessfully installed cloudpickle-1.6.0 gym-0.17.3 pyglet-1.5.0\n"
          ]
        },
        {
          "output_type": "display_data",
          "data": {
            "application/vnd.colab-display-data+json": {
              "pip_warning": {
                "packages": [
                  "gym"
                ]
              }
            }
          },
          "metadata": {}
        }
      ]
    },
    {
      "cell_type": "code",
      "source": [
        "import gym\n",
        "from gym.wrappers.monitor import Monitor\n",
        "import numpy as np\n",
        "from pyvirtualdisplay import Display"
      ],
      "metadata": {
        "id": "4bY_UAsHm89V"
      },
      "execution_count": 17,
      "outputs": []
    },
    {
      "cell_type": "code",
      "source": [
        "env = gym.make('CartPole-v1')\n",
        "scores = train(env, 10000, 0.000045, 0.98, True)\n",
        "env.close()\n",
        "show_video()"
      ],
      "metadata": {
        "colab": {
          "base_uri": "https://localhost:8080/",
          "height": 431
        },
        "id": "VSRR6AFYkWOn",
        "outputId": "4fa17949-4aaa-48bc-d8bf-9dd7d54ccfd1"
      },
      "execution_count": 42,
      "outputs": [
        {
          "output_type": "stream",
          "name": "stdout",
          "text": [
            "State shape: (2,)\n"
          ]
        },
        {
          "output_type": "stream",
          "name": "stderr",
          "text": [
            "<ipython-input-41-d64c50dc4e30>:12: VisibleDeprecationWarning: Creating an ndarray from ragged nested sequences (which is a list-or-tuple of lists-or-tuples-or ndarrays with different lengths or shapes) is deprecated. If you meant to do this, you must specify 'dtype=object' when creating the ndarray.\n",
            "  print(\"State shape:\", np.array(state).shape)\n"
          ]
        },
        {
          "output_type": "error",
          "ename": "ValueError",
          "evalue": "cannot reshape array of size 2 into shape (1,4)",
          "traceback": [
            "\u001b[0;31m---------------------------------------------------------------------------\u001b[0m",
            "\u001b[0;31mValueError\u001b[0m                                Traceback (most recent call last)",
            "\u001b[0;32m<ipython-input-42-3e8450240db9>\u001b[0m in \u001b[0;36m<cell line: 2>\u001b[0;34m()\u001b[0m\n\u001b[1;32m      1\u001b[0m \u001b[0menv\u001b[0m \u001b[0;34m=\u001b[0m \u001b[0mgym\u001b[0m\u001b[0;34m.\u001b[0m\u001b[0mmake\u001b[0m\u001b[0;34m(\u001b[0m\u001b[0;34m'CartPole-v1'\u001b[0m\u001b[0;34m)\u001b[0m\u001b[0;34m\u001b[0m\u001b[0;34m\u001b[0m\u001b[0m\n\u001b[0;32m----> 2\u001b[0;31m \u001b[0mscores\u001b[0m \u001b[0;34m=\u001b[0m \u001b[0mtrain\u001b[0m\u001b[0;34m(\u001b[0m\u001b[0menv\u001b[0m\u001b[0;34m,\u001b[0m \u001b[0;36m10000\u001b[0m\u001b[0;34m,\u001b[0m \u001b[0;36m0.000045\u001b[0m\u001b[0;34m,\u001b[0m \u001b[0;36m0.98\u001b[0m\u001b[0;34m,\u001b[0m \u001b[0;32mTrue\u001b[0m\u001b[0;34m)\u001b[0m\u001b[0;34m\u001b[0m\u001b[0;34m\u001b[0m\u001b[0m\n\u001b[0m\u001b[1;32m      3\u001b[0m \u001b[0menv\u001b[0m\u001b[0;34m.\u001b[0m\u001b[0mclose\u001b[0m\u001b[0;34m(\u001b[0m\u001b[0;34m)\u001b[0m\u001b[0;34m\u001b[0m\u001b[0;34m\u001b[0m\u001b[0m\n\u001b[1;32m      4\u001b[0m \u001b[0mshow_video\u001b[0m\u001b[0;34m(\u001b[0m\u001b[0;34m)\u001b[0m\u001b[0;34m\u001b[0m\u001b[0;34m\u001b[0m\u001b[0m\n",
            "\u001b[0;32m<ipython-input-41-d64c50dc4e30>\u001b[0m in \u001b[0;36mtrain\u001b[0;34m(env, nb_episodes, alpha, gamma, show_result)\u001b[0m\n\u001b[1;32m     11\u001b[0m         \u001b[0mstate\u001b[0m \u001b[0;34m=\u001b[0m \u001b[0menv\u001b[0m\u001b[0;34m.\u001b[0m\u001b[0mreset\u001b[0m\u001b[0;34m(\u001b[0m\u001b[0;34m)\u001b[0m\u001b[0;34m\u001b[0m\u001b[0;34m\u001b[0m\u001b[0m\n\u001b[1;32m     12\u001b[0m         \u001b[0mprint\u001b[0m\u001b[0;34m(\u001b[0m\u001b[0;34m\"State shape:\"\u001b[0m\u001b[0;34m,\u001b[0m \u001b[0mnp\u001b[0m\u001b[0;34m.\u001b[0m\u001b[0marray\u001b[0m\u001b[0;34m(\u001b[0m\u001b[0mstate\u001b[0m\u001b[0;34m)\u001b[0m\u001b[0;34m.\u001b[0m\u001b[0mshape\u001b[0m\u001b[0;34m)\u001b[0m\u001b[0;34m\u001b[0m\u001b[0;34m\u001b[0m\u001b[0m\n\u001b[0;32m---> 13\u001b[0;31m         \u001b[0mstate\u001b[0m \u001b[0;34m=\u001b[0m \u001b[0mnp\u001b[0m\u001b[0;34m.\u001b[0m\u001b[0marray\u001b[0m\u001b[0;34m(\u001b[0m\u001b[0mstate\u001b[0m\u001b[0;34m,\u001b[0m \u001b[0mdtype\u001b[0m\u001b[0;34m=\u001b[0m\u001b[0mobject\u001b[0m\u001b[0;34m)\u001b[0m\u001b[0;34m.\u001b[0m\u001b[0mreshape\u001b[0m\u001b[0;34m(\u001b[0m\u001b[0;36m1\u001b[0m\u001b[0;34m,\u001b[0m \u001b[0;36m4\u001b[0m\u001b[0;34m)\u001b[0m\u001b[0;34m\u001b[0m\u001b[0;34m\u001b[0m\u001b[0m\n\u001b[0m\u001b[1;32m     14\u001b[0m         \u001b[0mepisode_rewards\u001b[0m \u001b[0;34m=\u001b[0m \u001b[0;36m0\u001b[0m\u001b[0;34m\u001b[0m\u001b[0;34m\u001b[0m\u001b[0m\n\u001b[1;32m     15\u001b[0m \u001b[0;34m\u001b[0m\u001b[0m\n",
            "\u001b[0;31mValueError\u001b[0m: cannot reshape array of size 2 into shape (1,4)"
          ]
        }
      ]
    },
    {
      "cell_type": "markdown",
      "source": [
        "Couldnt get this to work. I did try to reshape array but wouldn't work.\n",
        "\n"
      ],
      "metadata": {
        "id": "2rvWY1lXqMkQ"
      }
    }
  ]
}